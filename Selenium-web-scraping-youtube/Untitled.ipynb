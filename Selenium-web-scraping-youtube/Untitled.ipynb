{
 "cells": [
  {
   "cell_type": "markdown",
   "id": "eba80264",
   "metadata": {},
   "source": [
    "# Scraping Youtube Top 10 Trending Videos Using Selenium"
   ]
  },
  {
   "cell_type": "code",
   "execution_count": 8,
   "id": "3332f5c3",
   "metadata": {},
   "outputs": [],
   "source": [
    "import requests\n",
    "import pandas  as pd\n",
    "import numpy as np\n",
    "from bs4 import BeautifulSoup"
   ]
  },
  {
   "cell_type": "code",
   "execution_count": 2,
   "id": "59bf3178",
   "metadata": {},
   "outputs": [],
   "source": [
    "url_youtube = 'https://www.youtube.com/feed/trending'\n"
   ]
  },
  {
   "cell_type": "code",
   "execution_count": 4,
   "id": "d0103477",
   "metadata": {},
   "outputs": [
    {
     "name": "stdout",
     "output_type": "stream",
     "text": [
      "status code:  200\n"
     ]
    }
   ],
   "source": [
    "# create a response \n",
    "response = requests.get(url_youtube)\n",
    "print('status code: ', response.status_code)"
   ]
  },
  {
   "cell_type": "code",
   "execution_count": 7,
   "id": "2352ab3a",
   "metadata": {},
   "outputs": [],
   "source": [
    "with open('trending.html', 'w') as f:\n",
    "    f.write(response.text.encode('utf8').decode('ascii', 'ignore'))"
   ]
  },
  {
   "cell_type": "code",
   "execution_count": 9,
   "id": "69126daa",
   "metadata": {},
   "outputs": [
    {
     "name": "stdout",
     "output_type": "stream",
     "text": [
      "page title:  <title>Trending - YouTube</title>\n"
     ]
    }
   ],
   "source": [
    "# set up beautiful soup container\n",
    "doc_trend = BeautifulSoup(response.text, 'html.parser')\n",
    "print('page title: ', doc_trend.title)"
   ]
  },
  {
   "cell_type": "code",
   "execution_count": null,
   "id": "500dabd5",
   "metadata": {},
   "outputs": [],
   "source": []
  }
 ],
 "metadata": {
  "kernelspec": {
   "display_name": "Python 3 (ipykernel)",
   "language": "python",
   "name": "python3"
  },
  "language_info": {
   "codemirror_mode": {
    "name": "ipython",
    "version": 3
   },
   "file_extension": ".py",
   "mimetype": "text/x-python",
   "name": "python",
   "nbconvert_exporter": "python",
   "pygments_lexer": "ipython3",
   "version": "3.10.9"
  }
 },
 "nbformat": 4,
 "nbformat_minor": 5
}
