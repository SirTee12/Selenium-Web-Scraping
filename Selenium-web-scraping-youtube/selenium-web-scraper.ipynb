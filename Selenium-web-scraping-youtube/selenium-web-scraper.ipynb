{
 "cells": [
  {
   "cell_type": "markdown",
   "id": "715353a1",
   "metadata": {},
   "source": [
    "# Scraping Youtube Top 10 Trending Videos Using Selenium"
   ]
  },
  {
   "cell_type": "code",
   "execution_count": 10,
   "id": "bc1b937c",
   "metadata": {},
   "outputs": [],
   "source": [
    "# import selenium web driver\n",
    "from selenium import webdriver\n",
    "from selenium.webdriver.chrome.options import Options"
   ]
  },
  {
   "cell_type": "code",
   "execution_count": 11,
   "id": "a4a8d13b",
   "metadata": {},
   "outputs": [],
   "source": [
    "# set chrome options\n",
    "chrome_options = Options()\n",
    "\n",
    "# Set the executable parameters for the Chrome WebDriver\n",
    "chrome_options.add_argument(\"webdriver.chrome.driver= C:/Users/Administrator/Downloads/chromedriver-win64/chromedriver.exe\")\n",
    "chrome_options.add_argument(\"--headless\")\n",
    "chrome_options.add_argument(\"--no-sandbox\")\n",
    "chrome_options.add_argument(\"--disable-dev-shm-usage\")\n",
    "chrome_driver = webdriver.Chrome(options=chrome_options)"
   ]
  },
  {
   "cell_type": "code",
   "execution_count": 12,
   "id": "f0155a11",
   "metadata": {},
   "outputs": [],
   "source": [
    "url_youtube = 'https://www.youtube.com/feed/trending'"
   ]
  },
  {
   "cell_type": "code",
   "execution_count": 13,
   "id": "f3ed902a",
   "metadata": {},
   "outputs": [
    {
     "name": "stdout",
     "output_type": "stream",
     "text": [
      "page title:  YouTube\n"
     ]
    }
   ],
   "source": [
    "# \n",
    "chrome_driver.get(url_youtube)\n",
    "print('page title: ', chrome_driver.title)"
   ]
  },
  {
   "cell_type": "code",
   "execution_count": null,
   "id": "14c3bfb4",
   "metadata": {},
   "outputs": [],
   "source": []
  }
 ],
 "metadata": {
  "kernelspec": {
   "display_name": "Python 3 (ipykernel)",
   "language": "python",
   "name": "python3"
  },
  "language_info": {
   "codemirror_mode": {
    "name": "ipython",
    "version": 3
   },
   "file_extension": ".py",
   "mimetype": "text/x-python",
   "name": "python",
   "nbconvert_exporter": "python",
   "pygments_lexer": "ipython3",
   "version": "3.10.9"
  }
 },
 "nbformat": 4,
 "nbformat_minor": 5
}
