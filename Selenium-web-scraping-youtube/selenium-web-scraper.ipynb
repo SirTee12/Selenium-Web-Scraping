{
 "cells": [
  {
   "cell_type": "markdown",
   "id": "1f75eb1d",
   "metadata": {},
   "source": [
    "# Scraping Youtube Top 10 Trending Videos Using Selenium"
   ]
  },
  {
   "cell_type": "code",
   "execution_count": 14,
   "id": "2b7cff2a",
   "metadata": {},
   "outputs": [],
   "source": [
    "# import selenium web driver\n",
    "from selenium import webdriver\n",
    "from selenium.webdriver.chrome.options import Options"
   ]
  },
  {
   "cell_type": "code",
   "execution_count": 15,
   "id": "9cc99613",
   "metadata": {},
   "outputs": [],
   "source": [
    "# set as function\n",
    "def get_driver():\n",
    "    '''fucntion to get the chrome drive and \n",
    "    set the necessary parameters'''\n",
    "    # set chrome options\n",
    "    chrome_options = Options()\n",
    "\n",
    "    # Set the executable parameters for the Chrome WebDriver\n",
    "    chrome_options.add_argument(\"webdriver.chrome.driver= C:/Users/Administrator/Downloads/chromedriver-win64/chromedriver.exe\")\n",
    "    chrome_options.add_argument(\"--headless\")\n",
    "    chrome_options.add_argument(\"--no-sandbox\")\n",
    "    chrome_options.add_argument(\"--disable-dev-shm-usage\")\n",
    "    chrome_driver = webdriver.Chrome(options=chrome_options)\n",
    "    return driver"
   ]
  },
  {
   "cell_type": "code",
   "execution_count": null,
   "id": "1ef5a994",
   "metadata": {},
   "outputs": [
    {
     "name": "stdout",
     "output_type": "stream",
     "text": [
      "creating driver\n",
      "fetching the data\n"
     ]
    }
   ],
   "source": [
    "if __name__ == \"__main__\":\n",
    "    \n",
    "    # get the driver\n",
    "    print('creating driver')\n",
    "    driver_youtube = get_driver\n",
    "    # set the youtube url\n",
    "    url_youtube = 'https://www.youtube.com/feed/trending'\n",
    "    \n",
    "    # fetch the data\n",
    "    print('fetching the data')\n",
    "    chrome_driver.get(url_youtube)\n",
    "    print('page title: ', chrome_driver.title)"
   ]
  },
  {
   "cell_type": "code",
   "execution_count": 13,
   "id": "766f4484",
   "metadata": {},
   "outputs": [
    {
     "name": "stdout",
     "output_type": "stream",
     "text": [
      "page title:  YouTube\n"
     ]
    }
   ],
   "source": []
  },
  {
   "cell_type": "code",
   "execution_count": null,
   "id": "08fbbdf9",
   "metadata": {},
   "outputs": [],
   "source": []
  }
 ],
 "metadata": {
  "kernelspec": {
   "display_name": "Python 3 (ipykernel)",
   "language": "python",
   "name": "python3"
  },
  "language_info": {
   "codemirror_mode": {
    "name": "ipython",
    "version": 3
   },
   "file_extension": ".py",
   "mimetype": "text/x-python",
   "name": "python",
   "nbconvert_exporter": "python",
   "pygments_lexer": "ipython3",
   "version": "3.10.9"
  }
 },
 "nbformat": 4,
 "nbformat_minor": 5
}
