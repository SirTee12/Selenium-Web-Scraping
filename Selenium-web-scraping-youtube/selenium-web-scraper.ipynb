{
 "cells": [
  {
   "cell_type": "markdown",
   "id": "4a39527e",
   "metadata": {},
   "source": [
    "# Scraping Youtube Top 10 Trending Videos Using Selenium"
   ]
  },
  {
   "cell_type": "code",
   "execution_count": 24,
   "id": "fc213c0b",
   "metadata": {},
   "outputs": [],
   "source": [
    "# import selenium web driver\n",
    "from selenium import webdriver\n",
    "from selenium.webdriver.chrome.options import Options\n",
    "from selenium.webdriver.common.by import By"
   ]
  },
  {
   "cell_type": "code",
   "execution_count": 21,
   "id": "5a859866",
   "metadata": {},
   "outputs": [],
   "source": [
    "# set as function\n",
    "def get_driver():\n",
    "    '''fucntion to get the chrome drive and \n",
    "    set the necessary parameters'''\n",
    "    # set chrome options\n",
    "    chrome_options = Options()\n",
    "\n",
    "    # Set the executable parameters for the Chrome WebDriver\n",
    "    chrome_options.add_argument(\"webdriver.chrome.driver= C:/Users/Administrator/Downloads/chromedriver-win64/chromedriver.exe\")\n",
    "    chrome_options.add_argument(\"--headless\")\n",
    "    chrome_options.add_argument(\"--no-sandbox\")\n",
    "    chrome_options.add_argument(\"--disable-dev-shm-usage\")\n",
    "    driver = webdriver.Chrome(options=chrome_options)\n",
    "    return driver"
   ]
  },
  {
   "cell_type": "code",
   "execution_count": 27,
   "id": "843d4858",
   "metadata": {},
   "outputs": [],
   "source": [
    "# create a function to get videos\n",
    "def get_videos(chrome_driver):\n",
    "    '''This fucntion get the number of videos'''\n",
    "    \n",
    "    print('fetching the data')\n",
    "    chrome_driver.get(url_youtube)\n",
    "    \n",
    "    video_tag = 'ytd-video-renderer'\n",
    "    videos = chrome_driver.find_elements(By.TAG_NAME, video_div_tag)\n",
    "    return videos"
   ]
  },
  {
   "cell_type": "code",
   "execution_count": 29,
   "id": "18fb2050",
   "metadata": {},
   "outputs": [
    {
     "name": "stdout",
     "output_type": "stream",
     "text": [
      "creating driver\n",
      "fetching the data\n",
      "Found 96 videos\n"
     ]
    }
   ],
   "source": [
    "# set the body of the code to execute only when running the entire file\n",
    "if __name__ == \"__main__\":\n",
    "    \n",
    "    # get the driver\n",
    "    print('creating driver')\n",
    "    chrome_driver = get_driver()\n",
    "    \n",
    "    # initiate the get_video function\n",
    "    videos = get_videos(chrome_driver)\n",
    "    \n",
    "    # print number of videos found\n",
    "    print(f'Found {len(video_divs)} videos')\n",
    "    \n",
    "    # parse the videos getting url, title, views, description,\n",
    "    # uploaded time\n",
    "    videos_1 = videos[0]\n",
    "    title_tag = videos_1.find_element(By.ID, 'video-title')\n",
    "    title = title_tag.text\n",
    "    url = title_tag.get_attribute('href')\n",
    "    print('Title: ', title)\n",
    "    print('URL: ', url)"
   ]
  },
  {
   "cell_type": "code",
   "execution_count": null,
   "id": "2ed50b06",
   "metadata": {},
   "outputs": [],
   "source": []
  },
  {
   "cell_type": "code",
   "execution_count": null,
   "id": "6374a7c2",
   "metadata": {},
   "outputs": [],
   "source": []
  }
 ],
 "metadata": {
  "kernelspec": {
   "display_name": "Python 3 (ipykernel)",
   "language": "python",
   "name": "python3"
  },
  "language_info": {
   "codemirror_mode": {
    "name": "ipython",
    "version": 3
   },
   "file_extension": ".py",
   "mimetype": "text/x-python",
   "name": "python",
   "nbconvert_exporter": "python",
   "pygments_lexer": "ipython3",
   "version": "3.10.9"
  }
 },
 "nbformat": 4,
 "nbformat_minor": 5
}
