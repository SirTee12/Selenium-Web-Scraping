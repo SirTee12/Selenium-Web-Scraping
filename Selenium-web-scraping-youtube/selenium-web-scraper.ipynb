{
 "cells": [
  {
   "cell_type": "markdown",
   "id": "f9be3c03",
   "metadata": {},
   "source": [
    "# Scraping Youtube Top 10 Trending Videos Using Selenium"
   ]
  },
  {
   "cell_type": "code",
   "execution_count": 14,
   "id": "91f7ac5a",
   "metadata": {},
   "outputs": [],
   "source": [
    "# import selenium web driver\n",
    "from selenium import webdriver\n",
    "from selenium.webdriver.chrome.options import Options"
   ]
  },
  {
   "cell_type": "code",
   "execution_count": 15,
   "id": "e75db708",
   "metadata": {},
   "outputs": [],
   "source": [
    "# set as function\n",
    "def get_driver():\n",
    "    '''fucntion to get the chrome drive and \n",
    "    set the necessary parameters'''\n",
    "    # set chrome options\n",
    "    chrome_options = Options()\n",
    "\n",
    "    # Set the executable parameters for the Chrome WebDriver\n",
    "    chrome_options.add_argument(\"webdriver.chrome.driver= C:/Users/Administrator/Downloads/chromedriver-win64/chromedriver.exe\")\n",
    "    chrome_options.add_argument(\"--headless\")\n",
    "    chrome_options.add_argument(\"--no-sandbox\")\n",
    "    chrome_options.add_argument(\"--disable-dev-shm-usage\")\n",
    "    chrome_driver = webdriver.Chrome(options=chrome_options)\n",
    "    return driver"
   ]
  },
  {
   "cell_type": "code",
   "execution_count": 20,
   "id": "8e923076",
   "metadata": {},
   "outputs": [
    {
     "name": "stdout",
     "output_type": "stream",
     "text": [
      "creating driver\n"
     ]
    },
    {
     "ename": "NameError",
     "evalue": "name 'driver' is not defined",
     "output_type": "error",
     "traceback": [
      "\u001b[1;31m---------------------------------------------------------------------------\u001b[0m",
      "\u001b[1;31mNameError\u001b[0m                                 Traceback (most recent call last)",
      "Cell \u001b[1;32mIn[20], line 6\u001b[0m\n\u001b[0;32m      2\u001b[0m \u001b[38;5;28;01mif\u001b[39;00m \u001b[38;5;18m__name__\u001b[39m \u001b[38;5;241m==\u001b[39m \u001b[38;5;124m\"\u001b[39m\u001b[38;5;124m__main__\u001b[39m\u001b[38;5;124m\"\u001b[39m:\n\u001b[0;32m      3\u001b[0m     \n\u001b[0;32m      4\u001b[0m     \u001b[38;5;66;03m# get the driver\u001b[39;00m\n\u001b[0;32m      5\u001b[0m     \u001b[38;5;28mprint\u001b[39m(\u001b[38;5;124m'\u001b[39m\u001b[38;5;124mcreating driver\u001b[39m\u001b[38;5;124m'\u001b[39m)\n\u001b[1;32m----> 6\u001b[0m     chrome_driver \u001b[38;5;241m=\u001b[39m \u001b[43mget_driver\u001b[49m\u001b[43m(\u001b[49m\u001b[43m)\u001b[49m\n\u001b[0;32m      7\u001b[0m     \u001b[38;5;66;03m# set the youtube url\u001b[39;00m\n\u001b[0;32m      8\u001b[0m     url_youtube \u001b[38;5;241m=\u001b[39m \u001b[38;5;124m'\u001b[39m\u001b[38;5;124mhttps://www.youtube.com/feed/trending\u001b[39m\u001b[38;5;124m'\u001b[39m\n",
      "Cell \u001b[1;32mIn[15], line 14\u001b[0m, in \u001b[0;36mget_driver\u001b[1;34m()\u001b[0m\n\u001b[0;32m     12\u001b[0m chrome_options\u001b[38;5;241m.\u001b[39madd_argument(\u001b[38;5;124m\"\u001b[39m\u001b[38;5;124m--disable-dev-shm-usage\u001b[39m\u001b[38;5;124m\"\u001b[39m)\n\u001b[0;32m     13\u001b[0m chrome_driver \u001b[38;5;241m=\u001b[39m webdriver\u001b[38;5;241m.\u001b[39mChrome(options\u001b[38;5;241m=\u001b[39mchrome_options)\n\u001b[1;32m---> 14\u001b[0m \u001b[38;5;28;01mreturn\u001b[39;00m \u001b[43mdriver\u001b[49m\n",
      "\u001b[1;31mNameError\u001b[0m: name 'driver' is not defined"
     ]
    }
   ],
   "source": [
    "# set the body of the code to execute only when running the entire file\n",
    "if __name__ == \"__main__\":\n",
    "    \n",
    "    # get the driver\n",
    "    print('creating driver')\n",
    "    chrome_driver = get_driver()\n",
    "    # set the youtube url\n",
    "    url_youtube = 'https://www.youtube.com/feed/trending'\n",
    "    \n",
    "    # fetch the data\n",
    "    print('fetching the data')\n",
    "    chrome_driver.get(url_youtube)\n",
    "    print('page title: ', chrome_driver.title)"
   ]
  },
  {
   "cell_type": "code",
   "execution_count": 13,
   "id": "90d35944",
   "metadata": {},
   "outputs": [
    {
     "name": "stdout",
     "output_type": "stream",
     "text": [
      "page title:  YouTube\n"
     ]
    }
   ],
   "source": []
  },
  {
   "cell_type": "code",
   "execution_count": null,
   "id": "4805e061",
   "metadata": {},
   "outputs": [],
   "source": []
  }
 ],
 "metadata": {
  "kernelspec": {
   "display_name": "Python 3 (ipykernel)",
   "language": "python",
   "name": "python3"
  },
  "language_info": {
   "codemirror_mode": {
    "name": "ipython",
    "version": 3
   },
   "file_extension": ".py",
   "mimetype": "text/x-python",
   "name": "python",
   "nbconvert_exporter": "python",
   "pygments_lexer": "ipython3",
   "version": "3.10.9"
  }
 },
 "nbformat": 4,
 "nbformat_minor": 5
}
