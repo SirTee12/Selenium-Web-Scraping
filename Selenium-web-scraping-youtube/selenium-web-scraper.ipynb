{
 "cells": [
  {
   "cell_type": "markdown",
   "id": "df703b22",
   "metadata": {},
   "source": [
    "# Scraping Youtube Top 10 Trending Videos Using Selenium"
   ]
  },
  {
   "cell_type": "code",
   "execution_count": 6,
   "id": "ae2f7a75",
   "metadata": {},
   "outputs": [],
   "source": [
    "# import selenium web driver\n",
    "from selenium import webdriver\n",
    "from selenium.webdriver.chrome.options import Options\n",
    "from selenium.webdriver.common.by import By"
   ]
  },
  {
   "cell_type": "code",
   "execution_count": 7,
   "id": "295f75f5",
   "metadata": {},
   "outputs": [],
   "source": [
    "# set as function\n",
    "def get_driver():\n",
    "    '''fucntion to get the chrome drive and \n",
    "    set the necessary parameters'''\n",
    "    # set chrome options\n",
    "    chrome_options = Options()\n",
    "\n",
    "    # Set the executable parameters for the Chrome WebDriver\n",
    "    chrome_options.add_argument(\"webdriver.chrome.driver= C:/Users/Administrator/Downloads/chromedriver-win64/chromedriver.exe\")\n",
    "    chrome_options.add_argument(\"--headless\")\n",
    "    chrome_options.add_argument(\"--no-sandbox\")\n",
    "    chrome_options.add_argument(\"--disable-dev-shm-usage\")\n",
    "    driver = webdriver.Chrome(options=chrome_options)\n",
    "    return driver"
   ]
  },
  {
   "cell_type": "code",
   "execution_count": 8,
   "id": "d76eef3b",
   "metadata": {},
   "outputs": [],
   "source": [
    "# create a function to get videos\n",
    "def get_videos(chrome_driver):\n",
    "    '''This fucntion get the number of videos'''\n",
    "    url_youtube = 'https://www.youtube.com/feed/trending'\n",
    "    \n",
    "    print('fetching the data')\n",
    "    chrome_driver.get(url_youtube)\n",
    "    \n",
    "    video_tag = 'ytd-video-renderer'\n",
    "    videos = chrome_driver.find_elements(By.TAG_NAME, video_tag)\n",
    "    return videos"
   ]
  },
  {
   "cell_type": "code",
   "execution_count": 12,
   "id": "22415ac2",
   "metadata": {},
   "outputs": [],
   "source": [
    "# create a function to parse video\n",
    "def parse_video(video):\n",
    "    ''' parse the videos getting url, title, views, description,\n",
    "    uploaded time and return a dataframe\n",
    "    video  (html) = parsed video\n",
    "    return a dictionary of the parsed elemen\n",
    "    '''\n",
    "    # get the title\n",
    "    title_tag = video.find_element(By.ID, 'video-title')\n",
    "    title = title_tag.text\n",
    "    url = title_tag.get_attribute('href') # get the video url\n",
    "    \n",
    "    channel_div = video.find_element(By.CLASS_NAME, 'ytd-channel-name')\n",
    "    channel_name = channel_div.text\n",
    "    \n",
    "    thumbnail_tag = video.find_element(By.TAG_NAME, 'img')\n",
    "    thumbnail_url = thumbnail_tag.get_attribute('src') # get the url of the thumbnail\n",
    "    \n",
    "    description = video.find_element(By.ID, 'description-text').text # get the descriptin of the video\n",
    "    \n",
    "    return {\n",
    "        'title':title,\n",
    "        'url':url,\n",
    "        'channel_name':channel_name,\n",
    "        'thumbnail':thumbnail_url,\n",
    "        'description':description\n",
    "    }"
   ]
  },
  {
   "cell_type": "code",
   "execution_count": 14,
   "id": "ae651057",
   "metadata": {},
   "outputs": [
    {
     "name": "stdout",
     "output_type": "stream",
     "text": [
      "creating driver\n",
      "Fetching trending video\n",
      "fetching the data\n",
      "Found 96 videos\n",
      "printing dataframe of top 10 tending videos\n",
      "[{'title': 'ITASE 2 Latest Yoruba Movies 2024 Wumi Toriola Gabriel Afolayan Yetunde Alabi Habeeb Alagbe Debbie4K', 'url': 'https://www.youtube.com/watch?v=9wPpJUmqXHc', 'channel_name': 'LibraTv', 'thumbnail': 'https://i.ytimg.com/vi/9wPpJUmqXHc/hqdefault.jpg?sqp=-oaymwEcCPYBEIoBSFXyq4qpAw4IARUAAIhCGAFwAcABBg==&rs=AOn4CLDJmJZ77xamu2dsjFVBTKaxDEFdfg', 'description': \"ITASE Part 2 The full movie. Adenrele (Gabriel Afolayan) finds himself in a love triangle. On one side, there's Adedunke (Wumi Toriola) - a beautiful woman, but one struggling with low self-assuran...\"}, {'title': 'DEBUT GOAL FOR ZIRKZEE! 🤩 | Man Utd 1-0 Fulham | Premier League', 'url': 'https://www.youtube.com/watch?v=5VM9zKyfk9E', 'channel_name': 'Manchester United', 'thumbnail': 'https://i.ytimg.com/vi/5VM9zKyfk9E/hqdefault.jpg?sqp=-oaymwEcCPYBEIoBSFXyq4qpAw4IARUAAIhCGAFwAcABBg==&rs=AOn4CLBzAOj6PX3n3h1dDIk23s8FTZh4ZA', 'description': \"Joshua Zirkzee's debut goal earned United all three points on the opening day of the Premier League season! 💥 ▶️ Subscribe to Manchester United on YouTube at http://bit.ly/ManU_YT 📲...\"}, {'title': 'Perfect Match - Frederick Leonard Shine Roseman Nora Okonkwo Nigerian Movies 2024 Latest Full Movies', 'url': 'https://www.youtube.com/watch?v=WfslO_goelE', 'channel_name': 'BossLadyFlix', 'thumbnail': 'https://i.ytimg.com/vi/WfslO_goelE/hqdefault.jpg?sqp=-oaymwEcCPYBEIoBSFXyq4qpAw4IARUAAIhCGAFwAcABBg==&rs=AOn4CLAqbkJvsaU6U1w670xTiaQthJE0dQ', 'description': 'Bossladyflix TV is a platform for the best Nollywood movies, the latest Nigerian movies featuring your favorite actors. Please stay connected as you subscribe Here are other wonderful movies...'}, {'title': 'BETTER DAYS (New Movie) Angel Unigwe, Chioma Nwosu, Victory Michael 2024 Nollywood Movie', 'url': 'https://www.youtube.com/watch?v=6RSZXIHVOD4', 'channel_name': 'Uche Nancy tv', 'thumbnail': None, 'description': 'BETTER DAYS (New Movie) Angel Unigwe, Chioma Nwosu, Victory Michael 2024 Nollywood Movie SUBSCRIBE NOW https://www.youtube.com/channel/UCzKrLr1ZD1uds-7c7vaSjVA?sub_confirmation=1 Get ready...'}, {'title': 'MATCH MINGLE - Nigerian Movies 2024 Latest Full Movies', 'url': 'https://www.youtube.com/watch?v=rSKgwGlH6x0', 'channel_name': 'Omoni Oboli TV', 'thumbnail': None, 'description': 'If you are looking for Nigerian Movies 2024 Latest Full Movies, then you need to check out MATCH MINGLE! This romantic movie moves you into the world of the best Nollywood movies 2024 latest...'}, {'title': 'HIGHLIGHTS | Real Madrid 2-0 Atalanta | UEFA Super Cup 2024', 'url': 'https://www.youtube.com/watch?v=PvXyjz0hdbc', 'channel_name': 'Real Madrid', 'thumbnail': None, 'description': 'Watch the goals and highlights as Real Madrid became UEFA Super Cup 2024 champions after defeating Atalanta 2-0 in Warsaw (Real Madrid 2-0 Atalanta). Real Madrid have picked up their first...'}, {'title': 'SPICE OF LOVE - Nigerian Movies 2024 Latest Full Movies', 'url': 'https://www.youtube.com/watch?v=qDBfgAALd-E', 'channel_name': 'Omoni Oboli TV', 'thumbnail': None, 'description': 'If you are looking for Nigerian Movies 2024 Latest Full Movies, then you need to check out SPICE OF LOVE! This romantic movie moves you into the world of the best Nollywood movies 2024 latest...'}, {'title': 'ALAYA PUPO- Latest 2024 Yoruba Movie Drama Starring; Wumi Ajiboye, Mide Abiodun, Femi Adekanye', 'url': 'https://www.youtube.com/watch?v=4Gm7mxOrbYE', 'channel_name': 'YORUBAPLAY', 'thumbnail': None, 'description': 'The chilling story of a troublesome household. A well to do man houses all of his five wives, and his mother in his mansion. In this mix, each day comes with its own trouble, tension and chaos...'}, {'title': 'How to Start Investing and Make Your First Million', 'url': 'https://www.youtube.com/watch?v=cwZyMzgh-14', 'channel_name': 'MemeGirls', 'thumbnail': None, 'description': 'memeficooperation@gmail.com - if you want to cooperate with us, write for this mail Subscribe to stay updated with all the latest crypto news! 🚀 #crypto TG — https://t.me/memeficlub...'}, {'title': '妈妈教育孩子却被父女联合赶出家门！太寒心！ #搞笑#funny#萌娃', 'url': 'https://www.youtube.com/shorts/XrQhkGS6gVA', 'channel_name': '一只小妤宝', 'thumbnail': None, 'description': '我们的视频会遵循儿童安全标准，避免包含任何可能对其产生负面影响的情节，其中任何画面和环境都是在舒适且安全的情况下拍摄的，并且能完全...'}, {'title': 'High School Magical - The Love Battle ( Episode 2 )', 'url': 'https://www.youtube.com/watch?v=KKk22VC8Qac', 'channel_name': 'SIRBALO STUDIOS ', 'thumbnail': None, 'description': 'The Whole School bow before chloe because she have the SPELL BOOK.. Watch to see how ANNIE defeated her....'}, {'title': 'Toyin Abraham Like You Have Never Seen Her Before On The Set Of Her Latest Movie, Iyalode!', 'url': 'https://www.youtube.com/shorts/1fVTKXlRS8o', 'channel_name': 'Broadway TV', 'thumbnail': None, 'description': ''}, {'title': 'ITASE Latest Movie 2024 Wumi Toriola | Gabriel Afolayan |Yetunde Alabi | Lola Idije|Habeeb Alagbe 4K', 'url': 'https://www.youtube.com/watch?v=KmL04QfUDIk', 'channel_name': 'LibraTv', 'thumbnail': None, 'description': \"Adenrele (Gabriel Afolayan) finds himself in a love triangle. On one side, there's Adedunke (Wumi Toriola) - a beautiful woman, but one struggling with low self-assurance due to her experience...\"}, {'title': 'Survival Skills: Steam Distiller for Dirty Water in Extreme Conditions. #survival #camping', 'url': 'https://www.youtube.com/shorts/CMp0LwhBUws', 'channel_name': 'Sergio Outdoors', 'thumbnail': None, 'description': ''}, {'title': 'Running With Bigger And Bigger Feastables', 'url': 'https://www.youtube.com/shorts/AydS-vA3qa4', 'channel_name': 'MrBeast', 'thumbnail': None, 'description': ''}, {'title': 'Love At A Cost - Latest Romantic Nollywood Movies 2024 Starring Ik Ogbonna, Mercy Isoyip,Frances Ben', 'url': 'https://www.youtube.com/watch?v=-DJwy47DB8A', 'channel_name': 'IBAKATV', 'thumbnail': None, 'description': '\"Uzo is left shattered after his opportunist girlfriend would stop at nothing but to milk him dry, He must navigate through his new life and confront the reality of her manipulations\" LOVE...'}, {'title': 'The Best 150 Push Up Routine Ever Created To Build Strength and Endurance', 'url': 'https://www.youtube.com/shorts/APrLuGHV8kU', 'channel_name': \"That's Good Money\", 'thumbnail': None, 'description': 'This is called the \"Khaotic Push Up Routine\"created by Khaos Follow Khaos on Instagram https://www.instagram.com/omertakhaos Check out my That’s Good Money Merch ...'}, {'title': 'MID NIGHT PRAYER COMMANDING THE DAY-CELEBRATION NIGHT. 18-08-2024', 'url': 'https://www.youtube.com/watch?v=RhGUA7XLISI', 'channel_name': 'Dunamis TV', 'thumbnail': None, 'description': 'MID NIGHT PRAYER COMMANDING THE DAY-CELEBRATION NIGHT. 18-08-2024'}, {'title': 'The Angry Waiter ft. Brainjotter Comedy || EP1 || (Latest Lasisi Elenu Comedy Series)', 'url': 'https://www.youtube.com/watch?v=OVi0wjsLhgI', 'channel_name': 'Lasisi Elenu', 'thumbnail': None, 'description': 'Join this channel to get access to perks: https://www.youtube.com/channel/UCfvmvOEGw6Nqd6E9qMryE3A/join Watch latest African comedy, funny videos, talk shows, short films, rants, and lots...'}, {'title': 'This interesting video will make you laugh and also teach you about Life and Love #shorts', 'url': 'https://www.youtube.com/shorts/o6p7jJwmpLo', 'channel_name': 'YELLOW PEBBLES TV', 'thumbnail': None, 'description': 'WATCH FULL MOVIE https://youtu.be/jJNuqQ0Z1eg This interesting video will make you laugh and also teach you about Life and Love #shorts'}]\n"
     ]
    }
   ],
   "source": [
    "# set the body of the code to execute only when running the entire file\n",
    "if __name__ == \"__main__\":\n",
    "    \n",
    "    # get the driver\n",
    "    print('creating driver')\n",
    "    chrome_driver = get_driver()\n",
    "    \n",
    "    # initiate the get_video function\n",
    "    print('Fetching trending video')\n",
    "    videos = get_videos(chrome_driver)\n",
    "    \n",
    "    # print number of videos found\n",
    "    print(f'Found {len(videos)} videos')\n",
    "    \n",
    "    # parsing the top 10 trending videos\n",
    "    print('printing dataframe of top 10 tending videos')\n",
    "    video_data = [parse_video(video) for video in videos[:20]]\n",
    "    \n",
    "    print(video_data)"
   ]
  },
  {
   "cell_type": "code",
   "execution_count": null,
   "id": "a6e7b7b4",
   "metadata": {},
   "outputs": [],
   "source": []
  },
  {
   "cell_type": "code",
   "execution_count": null,
   "id": "a6317243",
   "metadata": {},
   "outputs": [],
   "source": []
  }
 ],
 "metadata": {
  "kernelspec": {
   "display_name": "Python 3 (ipykernel)",
   "language": "python",
   "name": "python3"
  },
  "language_info": {
   "codemirror_mode": {
    "name": "ipython",
    "version": 3
   },
   "file_extension": ".py",
   "mimetype": "text/x-python",
   "name": "python",
   "nbconvert_exporter": "python",
   "pygments_lexer": "ipython3",
   "version": "3.10.9"
  }
 },
 "nbformat": 4,
 "nbformat_minor": 5
}
